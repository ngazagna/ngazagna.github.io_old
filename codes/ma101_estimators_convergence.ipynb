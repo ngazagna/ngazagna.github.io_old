{
 "cells": [
  {
   "cell_type": "markdown",
   "metadata": {},
   "source": [
    "<h1><center>Course MA101 - Statistics (ENSTA ParisTech)<center></h1>\n",
    "<h2><center>Comparison of the convergence of two estimators<center></h2> \n",
    "\n",
    "    Author : Nidham Gazagnadou\n",
    "    \n",
    "The aim of this notebook is to illustrate the difference between two estimators of the parameter of a uniform distribution. We illustrate their respective convergence and their speed of convergence. This is an illustration of an exercise of the course [MA101](https://synapses.ensta-paristech.fr/catalogue/2018-2019/ue/3564/MA101-introduction-aux-probabilites-et-aux-statistiques)- Statistics at ENSTA ParisTech, Palaiseau.\n",
    "\n",
    "For any remark or suggestion, please feel free to contact me at: nidham.gazagnadou@telecom-paristech.fr\n",
    "\n",
    "Last update: June 2nd 2019"
   ]
  },
  {
   "cell_type": "markdown",
   "metadata": {},
   "source": [
    "## Exercise 3 (Sujet 3)\n",
    "Let us consider the statistical model $\\mathscr{U}_{[0,\\theta]}$, with $\\theta \\in \\mathrm{R}^*_+$. Our goal is to estimate the parameter of this uniform distribution $\\theta$.\n",
    "\n",
    "<font color=\"red\">**Question 1**: Give an estimator $\\widetilde{\\theta}_n$ of $\\theta$ using the method of moments.</font>\n",
    "<br>\n",
    "Hint: try at the first order."
   ]
  },
  {
   "cell_type": "markdown",
   "metadata": {},
   "source": [
    "**<font color=\"green\"> Answer 1:</font>**\n",
    "$$\n",
    "\\widetilde{\\theta}_n := 2 \\overline{X}_n \\quad \\mbox{(moments)}\n",
    "$$"
   ]
  },
  {
   "cell_type": "markdown",
   "metadata": {},
   "source": [
    "<font color=\"red\">**Question 2**: Give the maximum likelihood estimator (MLE) $\\widehat{\\theta}_n$ of $\\theta$.</font>\n"
   ]
  },
  {
   "cell_type": "markdown",
   "metadata": {},
   "source": [
    "**<font color=\"green\"> Answer 2:</font>**\n",
    "$$\n",
    "\\widehat{\\theta}_n := \\max{ \\{ X_1, \\ldots, X_n \\} } \\quad \\mbox{(EMV)}\n",
    "$$"
   ]
  },
  {
   "cell_type": "markdown",
   "metadata": {},
   "source": [
    "<font color=\"red\">**Question 3**: Compare the quadratic risk and the respective speed of convergence of $\\widetilde{\\theta}_n$ and $\\widehat{\\theta}_n$.</font>"
   ]
  },
  {
   "cell_type": "markdown",
   "metadata": {},
   "source": [
    "**<font color=\"green\"> Answer 3:</font>**\n",
    "<br>\n",
    "On the one hand, one can show, using the repartition function of $\\widetilde{\\theta}_n$, that the estimator of the method of the moments converges to **normal distribution** with a speed of $\\sqrt{n}$\n",
    "$$\n",
    "\\sqrt{n} \\left(\\widetilde{\\theta}_n - \\theta\\right) \\xrightarrow[]{\\mathcal{L}} \\mathcal{N} \\left( 0, \\frac{\\theta^2}{3} \\right)\n",
    "$$ \n",
    "\n",
    "\n",
    "On the other hand, using the central limit theorem, the MLE converges to a **negative exponential distribution** with a speed of $n$:\n",
    "$$\n",
    "n \\left(\\theta - \\widehat{\\theta}_n\\right) \\xrightarrow[]{\\mathcal{L}} \\mathcal{E}\\left(\\frac{1}{\\theta}\\right)\n",
    "$$ "
   ]
  },
  {
   "cell_type": "markdown",
   "metadata": {},
   "source": [
    "## Simulating the sample"
   ]
  },
  {
   "cell_type": "code",
   "execution_count": 1,
   "metadata": {},
   "outputs": [],
   "source": [
    "import numpy as np\n",
    "import matplotlib.pyplot as plt\n",
    "%matplotlib inline"
   ]
  },
  {
   "cell_type": "code",
   "execution_count": 2,
   "metadata": {},
   "outputs": [],
   "source": [
    "theta_seed = 2 # real value of theta\n",
    "n = 100 # number of samples\n",
    "sample = np.random.uniform(0, theta_seed, n)"
   ]
  },
  {
   "cell_type": "code",
   "execution_count": 3,
   "metadata": {},
   "outputs": [
    {
     "data": {
      "text/plain": [
       "Text(0, 0.5, 'Probability')"
      ]
     },
     "execution_count": 3,
     "metadata": {},
     "output_type": "execute_result"
    },
    {
     "data": {
      "image/png": "[encoded data removed]",
      "text/plain": [
       "<Figure size 432x288 with 1 Axes>"
      ]
     },
     "metadata": {
      "needs_background": "light"
     },
     "output_type": "display_data"
    }
   ],
   "source": [
    "plt.hist(sample, density=True, bins=30) # density\n",
    "plt.ylabel('Probability')"
   ]
  },
  {
   "cell_type": "markdown",
   "metadata": {},
   "source": [
    "## Computing our estimators"
   ]
  },
  {
   "cell_type": "code",
   "execution_count": 4,
   "metadata": {
    "scrolled": true
   },
   "outputs": [
    {
     "name": "stdout",
     "output_type": "stream",
     "text": [
      "Method of moments estimator:  2.200026394735043\n",
      "MLE estimator:  1.9811214787300033\n"
     ]
    }
   ],
   "source": [
    "moment_estimator = 2*np.mean(sample)\n",
    "mle_estimator = np.max(sample)\n",
    "\n",
    "print(\"Method of moments estimator: \", moment_estimator)\n",
    "print(\"MLE estimator: \", mle_estimator)"
   ]
  },
  {
   "cell_type": "markdown",
   "metadata": {},
   "source": [
    "## Visualization of the MLE "
   ]
  },
  {
   "cell_type": "code",
   "execution_count": 5,
   "metadata": {},
   "outputs": [
    {
     "data": {
      "text/plain": [
       "-109.86122886681098"
      ]
     },
     "execution_count": 5,
     "metadata": {},
     "output_type": "execute_result"
    }
   ],
   "source": [
    "def uniform_loglik(theta, sample):\n",
    "    n = np.size(sample)\n",
    "    max_theta = np.max(sample)\n",
    "    if theta >= max_theta:\n",
    "        likelihood = -n*np.log(theta) \n",
    "    else:\n",
    "        likelihood = np.NaN\n",
    "    return likelihood\n",
    "\n",
    "vec_uniform_loglik = np.vectorize(uniform_loglik, excluded=['sample'])\n",
    "\n",
    "uniform_loglik(3.0, sample) # testing"
   ]
  },
  {
   "cell_type": "code",
   "execution_count": 6,
   "metadata": {},
   "outputs": [],
   "source": [
    "grid_theta = np.arange(0, 5, 0.001)\n",
    "loglik = vec_uniform_loglik(theta=grid_theta, sample=sample)\n",
    "loglik[np.isnan(loglik)] = 1.2*np.nanmin(loglik) # replacing NaN values by minimum for plotting issues"
   ]
  },
  {
   "cell_type": "code",
   "execution_count": 7,
   "metadata": {},
   "outputs": [
    {
     "data": {
      "text/plain": [
       "Text(0.5, 1.0, 'MLE estimator')"
      ]
     },
     "execution_count": 7,
     "metadata": {},
     "output_type": "execute_result"
    },
    {
     "data": {
      "image/png": "[encoded data removed]",
      "text/plain": [
       "<Figure size 432x288 with 1 Axes>"
      ]
     },
     "metadata": {
      "needs_background": "light"
     },
     "output_type": "display_data"
    }
   ],
   "source": [
    "plt.plot(grid_theta, loglik)\n",
    "plt.axvline(x=mle_estimator, color=\"red\")\n",
    "plt.title(\"MLE estimator\")"
   ]
  },
  {
   "cell_type": "markdown",
   "metadata": {},
   "source": [
    "## Simulating several samples of increasing size"
   ]
  },
  {
   "cell_type": "code",
   "execution_count": 8,
   "metadata": {},
   "outputs": [],
   "source": [
    "N = 10000\n",
    "sub_index = int(N/2) # keeping only the last N/2 samples to verify the convergence in law\n",
    "number_samples = np.arange(1, N, 1) # grid of the number of samples\n",
    "samples = [np.random.uniform(0, theta_seed, n) for n in number_samples]"
   ]
  },
  {
   "cell_type": "markdown",
   "metadata": {},
   "source": [
    "## Convergence of the estimator of the first moment"
   ]
  },
  {
   "cell_type": "markdown",
   "metadata": {},
   "source": [
    "Let us verify that\n",
    "$$\n",
    "\\sqrt{n} \\left(\\widetilde{\\theta}_n - \\theta\\right) \\xrightarrow[]{\\mathcal{L}} \\mathcal{N} \\left( 0, \\frac{\\theta^2}{3} \\right)\n",
    "$$ "
   ]
  },
  {
   "cell_type": "code",
   "execution_count": 9,
   "metadata": {},
   "outputs": [],
   "source": [
    "moment_estimators = [2*np.mean(sample) for sample in samples]\n",
    "\n",
    "# \\sqrt{n}(\\widehat{\\theta} - \\theta) \n",
    "moment_convergence = [np.sqrt(number_samples[i])*(moment_estimators[i] - theta_seed) for i in range(np.size(number_samples))]"
   ]
  },
  {
   "cell_type": "code",
   "execution_count": 10,
   "metadata": {
    "scrolled": true
   },
   "outputs": [
    {
     "data": {
      "image/png": "[encoded data removed]",
      "text/plain": [
       "<Figure size 432x288 with 1 Axes>"
      ]
     },
     "metadata": {
      "needs_background": "light"
     },
     "output_type": "display_data"
    }
   ],
   "source": [
    "plt.plot(number_samples, moment_estimators);\n",
    "plt.axvline(x=sub_index, color=\"blue\");"
   ]
  },
  {
   "cell_type": "code",
   "execution_count": 11,
   "metadata": {
    "scrolled": false
   },
   "outputs": [
    {
     "data": {
      "image/png": "[encoded data removed]",
      "text/plain": [
       "<Figure size 432x288 with 1 Axes>"
      ]
     },
     "metadata": {
      "needs_background": "light"
     },
     "output_type": "display_data"
    }
   ],
   "source": [
    "x_val = np.arange(-5, 5, 0.01)\n",
    "sigma2 = (theta_seed**2)/3\n",
    "normal_density = (1.0/np.sqrt(2*np.pi*sigma2))*np.exp(-0.5*(x_val**2/sigma2))\n",
    "\n",
    "plt.hist(moment_convergence[-sub_index:], density=True, bins=50); # density\n",
    "plt.plot(x_val, normal_density, color=\"red\");\n",
    "plt.ylabel('Probability');"
   ]
  },
  {
   "cell_type": "markdown",
   "metadata": {},
   "source": [
    "## Convergence of the estimator of the first moment"
   ]
  },
  {
   "cell_type": "markdown",
   "metadata": {},
   "source": [
    "Let us verify that\n",
    "$$\n",
    "n \\left(\\theta - \\widehat{\\theta}_n\\right) \\xrightarrow[]{\\mathcal{L}} \\mathcal{E}\\left(\\frac{1}{\\theta}\\right)\n",
    "$$"
   ]
  },
  {
   "cell_type": "code",
   "execution_count": 12,
   "metadata": {},
   "outputs": [],
   "source": [
    "mle_estimators = [np.max(sample) for sample in samples]\n",
    "\n",
    "# n(\\theta - \\widehat{\\theta}) \n",
    "mle_convergence = [number_samples[i]*(theta_seed - mle_estimators[i]) for i in range(np.size(number_samples))]"
   ]
  },
  {
   "cell_type": "code",
   "execution_count": 13,
   "metadata": {
    "scrolled": true
   },
   "outputs": [
    {
     "data": {
      "image/png": "[encoded data removed]",
      "text/plain": [
       "<Figure size 432x288 with 1 Axes>"
      ]
     },
     "metadata": {
      "needs_background": "light"
     },
     "output_type": "display_data"
    }
   ],
   "source": [
    "plt.plot(number_samples, mle_convergence);\n",
    "plt.axvline(x=sub_index, color=\"blue\");"
   ]
  },
  {
   "cell_type": "code",
   "execution_count": 14,
   "metadata": {
    "scrolled": false
   },
   "outputs": [
    {
     "data": {
      "image/png": "[encoded data removed]",
      "text/plain": [
       "<Figure size 432x288 with 1 Axes>"
      ]
     },
     "metadata": {
      "needs_background": "light"
     },
     "output_type": "display_data"
    }
   ],
   "source": [
    "x_val = np.arange(0, 20, 0.01)\n",
    "exp_density = (1.0/theta_seed)*np.exp(-x_val/theta_seed)\n",
    "\n",
    "plt.hist(mle_convergence[-sub_index:], density=True, bins=50); # density\n",
    "plt.plot(x_val, exp_density, color=\"red\");\n",
    "plt.ylabel('Probability');"
   ]
  }
 ],
 "metadata": {
  "kernelspec": {
   "display_name": "Python 3",
   "language": "python",
   "name": "python3"
  },
  "language_info": {
   "codemirror_mode": {
    "name": "ipython",
    "version": 3
   },
   "file_extension": ".py",
   "mimetype": "text/x-python",
   "name": "python",
   "nbconvert_exporter": "python",
   "pygments_lexer": "ipython3",
   "version": "3.7.2"
  }
 },
 "nbformat": 4,
 "nbformat_minor": 2
}
